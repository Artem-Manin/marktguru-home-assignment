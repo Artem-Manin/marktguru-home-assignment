{
 "cells": [
  {
   "cell_type": "markdown",
   "id": "82b148d1",
   "metadata": {},
   "source": [
    "### import and parameter"
   ]
  },
  {
   "cell_type": "code",
   "execution_count": null,
   "id": "7db2e2c3",
   "metadata": {},
   "outputs": [],
   "source": [
    "import shutil\n",
    "import os\n",
    "from PIL import Image"
   ]
  },
  {
   "cell_type": "markdown",
   "id": "5a677b7f",
   "metadata": {},
   "source": [
    "### copy files from upload folder"
   ]
  },
  {
   "cell_type": "code",
   "execution_count": 14,
   "id": "2e3dd7b7",
   "metadata": {},
   "outputs": [
    {
     "name": "stdout",
     "output_type": "stream",
     "text": [
      "File Homemade-Pizza_EXPS_FT23_376_EC_120123_3.jpg copied\n",
      "File Salami-pizza-hero.jpg copied\n",
      "File download.jpeg copied\n",
      "File Pizza-3007395.jpg copied\n",
      "File Eq_it-na_pizza-margherita_sep2005_sml.jpg copied\n"
     ]
    }
   ],
   "source": [
    "for fname in os.listdir(\"../data/image/upload\"):\n",
    "    shutil.copy2(f\"../data/image/upload/{fname}\", f\"../data/image/bronze/{fname}\")\n",
    "    print(f\"File {fname} copied\")"
   ]
  },
  {
   "cell_type": "markdown",
   "id": "2fc066db",
   "metadata": {},
   "source": [
    "### resize"
   ]
  },
  {
   "cell_type": "code",
   "execution_count": null,
   "id": "c7ff34e6",
   "metadata": {},
   "outputs": [],
   "source": [
    "def resize_max_side(img: Image.Image, max_side=512):\n",
    "    w, h = img.size\n",
    "    if max(w, h) <= max_side:\n",
    "        return img\n",
    "    scale = max_side / float(max(w, h))\n",
    "    new = (int(w*scale), int(h*scale))\n",
    "    return img.resize(new, Image.LANCZOS)"
   ]
  },
  {
   "cell_type": "code",
   "execution_count": 12,
   "id": "ec263062",
   "metadata": {},
   "outputs": [
    {
     "name": "stdout",
     "output_type": "stream",
     "text": [
      "Original size: (5472, 3648)\n",
      "Resized size: (512, 341)\n",
      "Resized image saved to data/resized/pizza_resized.jpg\n"
     ]
    }
   ],
   "source": [
    "# Load an image (replace with your file)\n",
    "img = Image.open(\"../data/raw/pizza/11_pizza.jpg\")\n",
    "\n",
    "print(\"Original size:\", img.size)\n",
    "\n",
    "# Resize\n",
    "resized = resize_max_side(img, max_side=512)\n",
    "print(\"Resized size:\", resized.size)\n",
    "\n",
    "# Save the resized version\n",
    "resized.save(\"../data/resized/pizza/11_pizza.jpg\")\n",
    "\n",
    "print(\"Resized image saved to data/resized/pizza_resized.jpg\")"
   ]
  },
  {
   "cell_type": "markdown",
   "id": "1f0ae0c4",
   "metadata": {},
   "source": [
    "download from hugging face"
   ]
  },
  {
   "cell_type": "code",
   "execution_count": null,
   "id": "628db9b9",
   "metadata": {},
   "outputs": [],
   "source": [
    "from datasets import load_dataset\n",
    "import os\n",
    "\n",
    "# --- Settings ---\n",
    "CLASSES = [\"pizza\", \"sushi\"]   # choose your two classes\n",
    "N = 10                         # how many per class\n",
    "OUT_DIR = \"../data/raw\"\n",
    "# ----------------\n",
    "\n",
    "# Load dataset\n",
    "ds = load_dataset(\"ethz/food101\", split=\"train\")\n",
    "\n",
    "# Label mapping\n",
    "label_names = ds.features[\"label\"].names\n",
    "\n",
    "# Ensure output folders exist\n",
    "for cls in CLASSES:\n",
    "    os.makedirs(os.path.join(OUT_DIR, cls), exist_ok=True)\n",
    "\n",
    "# Track how many saved per class\n",
    "saved_counts = {cls: 0 for cls in CLASSES}\n",
    "\n",
    "for idx, ex in enumerate(ds):\n",
    "    label = label_names[ex[\"label\"]]\n",
    "\n",
    "    if label in CLASSES and saved_counts[label] < N:\n",
    "        # Use dataset row index as unique, stable ID\n",
    "        fname = f\"{idx:06d}_{label}.jpg\"   # e.g. 000123_pizza.jpg\n",
    "        path = os.path.join(OUT_DIR, label, fname)\n",
    "\n",
    "        # Save image (overwrites if already exists)\n",
    "        ex[\"image\"].save(path)\n",
    "\n",
    "        saved_counts[label] += 1\n",
    "        print(\"Saved\", path)\n",
    "\n",
    "    # Stop once all targets reached\n",
    "    if all(saved_counts[c] >= N for c in CLASSES):\n",
    "        break\n",
    "\n",
    "print(\"Done! Saved:\", saved_counts)\n"
   ]
  }
 ],
 "metadata": {
  "kernelspec": {
   "display_name": "Python 3",
   "language": "python",
   "name": "python3"
  },
  "language_info": {
   "codemirror_mode": {
    "name": "ipython",
    "version": 3
   },
   "file_extension": ".py",
   "mimetype": "text/x-python",
   "name": "python",
   "nbconvert_exporter": "python",
   "pygments_lexer": "ipython3",
   "version": "3.11.13"
  }
 },
 "nbformat": 4,
 "nbformat_minor": 5
}
