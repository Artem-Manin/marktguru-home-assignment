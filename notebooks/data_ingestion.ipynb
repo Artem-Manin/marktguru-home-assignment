{
 "cells": [
  {
   "cell_type": "markdown",
   "id": "82b148d1",
   "metadata": {},
   "source": [
    "### Import"
   ]
  },
  {
   "cell_type": "code",
   "execution_count": 2,
   "id": "7db2e2c3",
   "metadata": {},
   "outputs": [],
   "source": [
    "import sys\n",
    "from pathlib import Path\n",
    "sys.path.append(\"../src\")\n",
    "from utils import prepare_dataset, resize_folder\n"
   ]
  },
  {
   "cell_type": "code",
   "execution_count": 2,
   "id": "86493faa",
   "metadata": {},
   "outputs": [
    {
     "data": {
      "text/plain": [
       "<module 'utils' from '/workspaces/marktguru-home-assignment/notebooks/../src/utils.py'>"
      ]
     },
     "execution_count": 2,
     "metadata": {},
     "output_type": "execute_result"
    }
   ],
   "source": [
    "import importlib,utils\n",
    "importlib.reload(utils)"
   ]
  },
  {
   "cell_type": "markdown",
   "id": "1f0ae0c4",
   "metadata": {},
   "source": [
    "### Download from Hugging Face\n",
    "\n",
    "The images are put directly into /silver as they all are already preprocessed: properly named and resized to 512 px max side.\n",
    "\n",
    "Three classes are selected: pizza, spaghetti_bolognese, and spaghetti_carbonara.\n",
    "Pizza can serve as a class that is more distinct. But both spaghetti dishes can be confused for each other.\n",
    "\n",
    "Per class, 750 images are downloaded for training, and 250 for validation. \n",
    "\n",
    "It is planned to use the Yolo classification model. Due to that, the folder structure and naming are adapted accordingly, and dataset.yaml is created."
   ]
  },
  {
   "cell_type": "code",
   "execution_count": 3,
   "id": "d03b6a73",
   "metadata": {},
   "outputs": [],
   "source": [
    "CLASSES = {\n",
    "    \"pizza\": 76,\n",
    "    \"spaghetti_bolognese\": 90,\n",
    "    \"spaghetti_carbonara\": 91,\n",
    "}\n",
    "OUT_ROOT = Path(\"../data/silver\")\n",
    "MAKE_CSV = True\n",
    "SPLIT_MAP = {\"train\": \"train\", \"validation\": \"val\"}\n",
    "N_SPLIT = {\"train\": 750, \"validation\": 250}\n"
   ]
  },
  {
   "cell_type": "code",
   "execution_count": 4,
   "id": "7a458dc5",
   "metadata": {},
   "outputs": [
    {
     "name": "stderr",
     "output_type": "stream",
     "text": [
      "/usr/local/python/3.11.13/lib/python3.11/site-packages/PIL/TiffImagePlugin.py:950: UserWarning: Truncated File Read\n",
      "  warnings.warn(str(msg))\n"
     ]
    },
    {
     "name": "stdout",
     "output_type": "stream",
     "text": [
      "[train] saved counts: {'pizza': 750, 'spaghetti_bolognese': 750, 'spaghetti_carbonara': 750}\n",
      "[validation] saved counts: {'pizza': 250, 'spaghetti_bolognese': 250, 'spaghetti_carbonara': 250}\n",
      "dataset.yaml written to: ../data/silver/dataset.yaml\n",
      "Class order: ['pizza', 'spaghetti_bolognese', 'spaghetti_carbonara']\n"
     ]
    },
    {
     "data": {
      "text/plain": [
       "PosixPath('../data/silver/dataset.yaml')"
      ]
     },
     "execution_count": 4,
     "metadata": {},
     "output_type": "execute_result"
    }
   ],
   "source": [
    "prepare_dataset(\n",
    "    CLASSES=CLASSES,\n",
    "    N_SPLIT=N_SPLIT,\n",
    "    OUT_ROOT=OUT_ROOT,\n",
    "    MAKE_CSV=MAKE_CSV,\n",
    "    SPLIT_MAP=SPLIT_MAP,\n",
    ")"
   ]
  },
  {
   "cell_type": "markdown",
   "id": "1a5a1d11",
   "metadata": {},
   "source": [
    "### Resize custom uploaded images"
   ]
  },
  {
   "cell_type": "code",
   "execution_count": 6,
   "id": "750c9a6a",
   "metadata": {},
   "outputs": [
    {
     "name": "stdout",
     "output_type": "stream",
     "text": [
      "📏 ../data/silver/upload/pizza_02.jpg\n",
      "📏 ../data/silver/upload/spaghetti_carbonara_01.jpg\n",
      "📏 ../data/silver/upload/spaghetti_carbonara_02.jpg\n",
      "📏 ../data/silver/upload/spaghetti_bolognese_05.jpg\n",
      "📏 ../data/silver/upload/pizza_05.jpg\n",
      "📏 ../data/silver/upload/spaghetti_carbonara_03.jpg\n",
      "📏 ../data/silver/upload/spaghetti_bolognese_03.jpeg\n",
      "📏 ../data/silver/upload/pizza_01.jpeg\n",
      "📏 ../data/silver/upload/spaghetti_bolognese_04.jpg\n",
      "📏 ../data/silver/upload/spaghetti_carbonara_04.jpg\n",
      "📏 ../data/silver/upload/spaghetti_bolognese_01.jpeg\n",
      "📏 ../data/silver/upload/pizza_03.jpg\n",
      "📏 ../data/silver/upload/pizza_04.jpg\n",
      "📏 ../data/silver/upload/spaghetti_bolognese_02.jpg\n",
      "📏 ../data/silver/upload/spaghetti_carbonara_05.jpg\n"
     ]
    }
   ],
   "source": [
    "src = Path(\"../data/bronze/upload\")\n",
    "dst = Path(\"../data/silver/upload\")\n",
    "resize_folder(src, dst, max_side=512)"
   ]
  }
 ],
 "metadata": {
  "kernelspec": {
   "display_name": "Python 3",
   "language": "python",
   "name": "python3"
  },
  "language_info": {
   "codemirror_mode": {
    "name": "ipython",
    "version": 3
   },
   "file_extension": ".py",
   "mimetype": "text/x-python",
   "name": "python",
   "nbconvert_exporter": "python",
   "pygments_lexer": "ipython3",
   "version": "3.11.13"
  }
 },
 "nbformat": 4,
 "nbformat_minor": 5
}
