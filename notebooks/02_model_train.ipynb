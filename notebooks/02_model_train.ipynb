{
 "cells": [
  {
   "cell_type": "markdown",
   "id": "82b148d1",
   "metadata": {},
   "source": [
    "### Import"
   ]
  },
  {
   "cell_type": "code",
   "execution_count": null,
   "id": "7db2e2c3",
   "metadata": {},
   "outputs": [],
   "source": [
    "import random\n",
    "import time\n",
    "import json\n",
    "from ultralytics import YOLO\n",
    "from pathlib import Path"
   ]
  },
  {
   "cell_type": "markdown",
   "id": "729ecdda",
   "metadata": {},
   "source": [
    "### Yolo model parameters\n",
    "\n",
    "**EPOCHS**: The number of times the entire training dataset is passed through the model during training. More epochs can help the model learn better, but too many can lead to overfitting.\n",
    "\n",
    "**IMG_SIZE** (image size): The target size (usually width and height in pixels) to which all training and inference images are resized. Larger sizes can improve detection accuracy but use more memory and computation.\n",
    "\n",
    "**BATCH** (batch size): The number of images the model processes at once before updating its internal parameters. A larger batch size can speed up training (if you have enough GPU memory) but may require more resources."
   ]
  },
  {
   "cell_type": "code",
   "execution_count": 3,
   "id": "5b5fc0ee",
   "metadata": {},
   "outputs": [],
   "source": [
    "DATASET_YAML = Path(\"../data/silver/\")  # point to your dataset.yaml\n",
    "BASE_MODEL = \"yolov8n-cls.pt\"\n",
    "EPOCHS = 50\n",
    "IMG_SIZE = 512\n",
    "FRACTION = 1\n",
    "BATCH = 16\n",
    "DEVICE = \"cpu\"\n",
    "PROJECT_PATH = Path(\"../runs/classify\")\n",
    "\n",
    "CLASSES = {\n",
    "    \"pizza\": 76,\n",
    "    \"spaghetti_bolognese\": 90,\n",
    "    \"spaghetti_carbonara\": 91,\n",
    "}"
   ]
  },
  {
   "cell_type": "markdown",
   "id": "d8516651",
   "metadata": {},
   "source": [
    "### First run of the pre-trained model"
   ]
  },
  {
   "cell_type": "code",
   "execution_count": null,
   "id": "30b91827",
   "metadata": {},
   "outputs": [
    {
     "name": "stdout",
     "output_type": "stream",
     "text": [
      "Results saved to \u001b[1m/workspaces/marktguru-home-assignment/runs/base_model\u001b[0m\n",
      "002620_76_pizza.jpg: pizza (0.99)\n",
      "002667_76_pizza.jpg: pizza (0.86)\n",
      "002673_76_pizza.jpg: pizza (1.00)\n",
      "002610_76_pizza.jpg: pizza (0.72)\n",
      "002675_76_pizza.jpg: pizza (0.96)\n",
      "002650_76_pizza.jpg: pizza (0.98)\n",
      "002577_76_pizza.jpg: pizza (0.96)\n",
      "002504_76_pizza.jpg: pizza (0.99)\n",
      "025088_90_spaghetti_bolognese.jpg: crayfish (0.91)\n",
      "025101_90_spaghetti_bolognese.jpg: carbonara (0.38)\n",
      "025187_90_spaghetti_bolognese.jpg: carbonara (0.80)\n",
      "025023_90_spaghetti_bolognese.jpg: plate (0.68)\n",
      "025036_90_spaghetti_bolognese.jpg: plate (0.29)\n",
      "025201_90_spaghetti_bolognese.jpg: carbonara (1.00)\n",
      "025011_90_spaghetti_bolognese.jpg: carbonara (1.00)\n",
      "025068_90_spaghetti_bolognese.jpg: plate (0.50)\n",
      "022289_91_spaghetti_carbonara.jpg: carbonara (0.95)\n",
      "022254_91_spaghetti_carbonara.jpg: carbonara (1.00)\n",
      "022257_91_spaghetti_carbonara.jpg: carbonara (0.99)\n",
      "022410_91_spaghetti_carbonara.jpg: carbonara (1.00)\n",
      "022473_91_spaghetti_carbonara.jpg: carbonara (1.00)\n",
      "022450_91_spaghetti_carbonara.jpg: carbonara (0.98)\n",
      "022428_91_spaghetti_carbonara.jpg: carbonara (0.98)\n",
      "022405_91_spaghetti_carbonara.jpg: carbonara (0.78)\n"
     ]
    }
   ],
   "source": [
    "model = YOLO(BASE_MODEL)\n",
    "random.seed(42)\n",
    "N = 8 \n",
    "subset = []\n",
    "for cls in CLASSES.keys():\n",
    "    cls_dir = Path(DATASET_YAML) / \"val\" / cls\n",
    "    all_imgs = list(cls_dir.glob(\"*.jpg\"))\n",
    "    if len(all_imgs) >= N:\n",
    "        subset.extend(random.sample(all_imgs, N))\n",
    "    else:\n",
    "        subset.extend(all_imgs)\n",
    "results = model.predict(source=subset, imgsz=IMG_SIZE, device=DEVICE, save=True, verbose=False, project=PROJECT_PATH, name=\"food101_base_model\",exist_ok=True)\n",
    "for r in results:\n",
    "    fname = Path(r.path).name\n",
    "    pred_class = r.names[r.probs.top1]\n",
    "    conf = r.probs.top1conf.item()\n",
    "    print(f\"{fname}: {pred_class} ({conf:.2f})\")"
   ]
  },
  {
   "cell_type": "markdown",
   "id": "f0c288e2",
   "metadata": {},
   "source": [
    "Pizza and spaghetti carbonara are recognized almost perfectly.\n",
    "Spaghetti bolognese is missing as a class - confused often with carbonara."
   ]
  },
  {
   "cell_type": "markdown",
   "id": "aa7f1299",
   "metadata": {},
   "source": [
    "### Fine-tune model with food101 data\n",
    "\n",
    "The complete set consists of 750 images for training and 250 images for validation in each of three classes.\n",
    "\n",
    "Eight models will be trained for each constellation of:\n",
    "- two epoch values: 20 and 50,\n",
    "- two images sizes: 224 (standard for Yolo) and 512 (images from Hugging Face)\n",
    "- two dataset lengths: 75 and 750"
   ]
  },
  {
   "cell_type": "code",
   "execution_count": null,
   "id": "9158cb35",
   "metadata": {},
   "outputs": [],
   "source": [
    "# can take hours to run!!!\n",
    "model = YOLO(BASE_MODEL)\n",
    "EPOCHS_LIST   = [20, 50]\n",
    "EPOCHS_LIST   = [50]\n",
    "IMG_SIZE_LIST = [224,512]\n",
    "IMG_SIZE_LIST = [512]\n",
    "FRACTIONS     = [0.1, 1]\n",
    "for epochs in EPOCHS_LIST:\n",
    "    for img in IMG_SIZE_LIST:\n",
    "        for frac in FRACTIONS:\n",
    "            name = f\"food101_e{epochs}_img{img}_frac{frac}\"\n",
    "            print(f\"\\n▶️ {name}\")\n",
    "            t0 = time.time()\n",
    "            res = model.train(\n",
    "                data=str(DATASET_YAML),\n",
    "                epochs=epochs,\n",
    "                imgsz=img,\n",
    "                batch=BATCH,\n",
    "                device=DEVICE,\n",
    "                project=str(PROJECT_PATH),\n",
    "                name=name,\n",
    "                exist_ok=True,\n",
    "                fraction=frac,\n",
    "                verbose=False\n",
    "            )\n",
    "            runtime_min = round((time.time() - t0) / 60, 3)\n",
    "            (PROJECT_PATH / name / \"summary.json\").write_text(\n",
    "                json.dumps({\"runtime_min\": runtime_min}, ensure_ascii=False)\n",
    "            )\n",
    "            print(f\"⏱️ runtime: {runtime_min} min\")"
   ]
  }
 ],
 "metadata": {
  "kernelspec": {
   "display_name": "Python 3",
   "language": "python",
   "name": "python3"
  },
  "language_info": {
   "codemirror_mode": {
    "name": "ipython",
    "version": 3
   },
   "file_extension": ".py",
   "mimetype": "text/x-python",
   "name": "python",
   "nbconvert_exporter": "python",
   "pygments_lexer": "ipython3",
   "version": "3.11.13"
  }
 },
 "nbformat": 4,
 "nbformat_minor": 5
}
