{
 "cells": [
  {
   "cell_type": "markdown",
   "id": "2c046f77",
   "metadata": {},
   "source": [
    "### ideas\n",
    "train and validate\n",
    "then tale some custom images, resize and classify them"
   ]
  },
  {
   "cell_type": "markdown",
   "id": "82b148d1",
   "metadata": {},
   "source": [
    "### import and parameter"
   ]
  },
  {
   "cell_type": "code",
   "execution_count": 5,
   "id": "7db2e2c3",
   "metadata": {},
   "outputs": [],
   "source": [
    "import shutil\n",
    "import os\n",
    "import tqdm as notebook_tqdm\n",
    "import csv\n",
    "from PIL import Image\n",
    "from datasets import load_dataset"
   ]
  },
  {
   "cell_type": "markdown",
   "id": "1f0ae0c4",
   "metadata": {},
   "source": [
    "### download from hugging face\n",
    "put into /silver as the images are preprocessed: already properly named and resized"
   ]
  },
  {
   "cell_type": "code",
   "execution_count": 6,
   "id": "e9076199",
   "metadata": {},
   "outputs": [],
   "source": [
    "CLASSES = {\n",
    "    \"pizza\": 76,\n",
    "    \"spaghetti_bolognese\": 90,\n",
    "    \"spaghetti_carbonara\": 91\n",
    "}\n",
    "OUT_DIR = \"../data/silver\"\n",
    "SPLITS = [\"train\", \"validation\"]\n",
    "label_names = None"
   ]
  },
  {
   "cell_type": "code",
   "execution_count": null,
   "id": "0a4660c3",
   "metadata": {},
   "outputs": [],
   "source": [
    "# Remove existing images in output folders\n",
    "for split in SPLITS:\n",
    "    split_dir = os.path.join(OUT_DIR, split)\n",
    "    if os.path.exists(split_dir):\n",
    "        for fname in os.listdir(split_dir):\n",
    "            if fname.endswith(\".jpg\"):\n",
    "                os.remove(os.path.join(split_dir, fname))\n",
    "\n",
    "N_SPLIT = {\"train\": 30, \"validation\": 10}\n",
    "\n",
    "for split in SPLITS:\n",
    "    ds = load_dataset(\"ethz/food101\", split=split)\n",
    "    split_dir = os.path.join(OUT_DIR, split)\n",
    "    os.makedirs(split_dir, exist_ok=True)\n",
    "\n",
    "    saved_counts = {cls: 0 for cls in CLASSES}\n",
    "\n",
    "    for idx, ex in enumerate(ds):\n",
    "        label_id = ex[\"label\"]\n",
    "        if label_id in CLASSES.values():\n",
    "            label = label_names[label_id]\n",
    "            if saved_counts[label] < N_SPLIT[split]:\n",
    "                fname = f\"{idx:06d}_{label_id:02d}_{label}.jpg\"\n",
    "                path = os.path.join(split_dir, fname)\n",
    "                ex[\"image\"].save(path)\n",
    "                saved_counts[label] += 1\n",
    "                print(f\"Saved {split}: {path}\")\n",
    "\n",
    "        if all(saved_counts[label_names[c]] >= N_SPLIT[split] for c in CLASSES.values()):\n",
    "            break\n",
    "\n",
    "    print(f\"Done {split}! Saved:\", saved_counts)"
   ]
  },
  {
   "cell_type": "code",
   "execution_count": 8,
   "id": "12b57393",
   "metadata": {},
   "outputs": [
    {
     "name": "stderr",
     "output_type": "stream",
     "text": [
      "/usr/local/python/3.11.13/lib/python3.11/site-packages/PIL/TiffImagePlugin.py:950: UserWarning: Truncated File Read\n",
      "  warnings.warn(str(msg))\n"
     ]
    },
    {
     "name": "stdout",
     "output_type": "stream",
     "text": [
      "Done train! Saved: {'spaghetti_bolognese': 50, 'spaghetti_carbonara': 50, 'pizza': 50}  Labels CSV: ../data/silver/train/labels.csv\n",
      "Done validation! Saved: {'spaghetti_bolognese': 20, 'spaghetti_carbonara': 20, 'pizza': 20}  Labels CSV: ../data/silver/validation/labels.csv\n"
     ]
    }
   ],
   "source": [
    "import os, csv\n",
    "from datasets import load_dataset\n",
    "\n",
    "CLASSES = {  # name -> id (as you had)\n",
    "    \"pizza\": 76,\n",
    "    \"spaghetti_bolognese\": 90,\n",
    "    \"spaghetti_carbonara\": 91,\n",
    "}\n",
    "OUT_DIR = \"../data/silver\"\n",
    "SPLITS = [\"train\", \"validation\"]\n",
    "N_SPLIT = {\"train\": 50, \"validation\": 20}  # example targets per class\n",
    "\n",
    "# --- label metadata (once) ---\n",
    "label_names = load_dataset(\"ethz/food101\", split=\"train\").features[\"label\"].names\n",
    "id_to_name = {i: n for i, n in enumerate(label_names)}\n",
    "target_ids = set(CLASSES.values())\n",
    "target_names = {id_to_name[i] for i in target_ids}  # {\"pizza\", \"spaghetti_bolognese\", ...}\n",
    "\n",
    "for split in SPLITS:\n",
    "    split_dir = os.path.join(OUT_DIR, split)\n",
    "    os.makedirs(split_dir, exist_ok=True)\n",
    "    csv_path = os.path.join(split_dir, \"labels.csv\")\n",
    "\n",
    "    ds = load_dataset(\"ethz/food101\", split=split)\n",
    "    saved_counts = {name: 0 for name in target_names}\n",
    "    rows = []\n",
    "\n",
    "    for idx, ex in enumerate(ds):\n",
    "        lid = ex[\"label\"]\n",
    "        if lid in target_ids:\n",
    "            label = id_to_name[lid]  # class name\n",
    "            if saved_counts[label] < N_SPLIT[split]:\n",
    "                fname = f\"{idx:06d}_{lid:02d}_{label}.jpg\"\n",
    "                path = os.path.join(split_dir, fname)\n",
    "                ex[\"image\"].save(path)\n",
    "                rows.append([fname, label])\n",
    "                saved_counts[label] += 1\n",
    "\n",
    "        # stop when ALL target classes reached their per-split quota\n",
    "        if all(count >= N_SPLIT[split] for count in saved_counts.values()):\n",
    "            break\n",
    "\n",
    "    with open(csv_path, \"w\", newline=\"\") as f:\n",
    "        w = csv.writer(f)\n",
    "        w.writerow([\"filename\", \"label\"])\n",
    "        w.writerows(rows)\n",
    "\n",
    "    print(f\"Done {split}! Saved: {saved_counts}  Labels CSV: {csv_path}\")\n"
   ]
  }
 ],
 "metadata": {
  "kernelspec": {
   "display_name": "Python 3",
   "language": "python",
   "name": "python3"
  },
  "language_info": {
   "codemirror_mode": {
    "name": "ipython",
    "version": 3
   },
   "file_extension": ".py",
   "mimetype": "text/x-python",
   "name": "python",
   "nbconvert_exporter": "python",
   "pygments_lexer": "ipython3",
   "version": "3.11.13"
  }
 },
 "nbformat": 4,
 "nbformat_minor": 5
}
