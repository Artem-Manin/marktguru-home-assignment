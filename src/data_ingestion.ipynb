{
 "cells": [
  {
   "cell_type": "markdown",
   "id": "e87b2fb7",
   "metadata": {},
   "source": [
    "## understanding the task\n",
    "\n",
    "there are new images from users, uploaded on daily basis\n",
    "\n",
    "we need to ingest them and prepare for further usage and processing\n",
    "\n",
    "lets assume it's a dish classification case\n",
    "\n",
    "points to consider:\n",
    "* we expect to have some existing main image pool which we plan to extend with new images\n",
    "\n",
    "* we ingest images daily\n",
    "    * schedule or other trigger?\n",
    "\n",
    "* data preparation\n",
    "        * rescale to have a maximum side length of 512 pixels\n",
    "\n",
    "* historization\n",
    "    * unlikely\n",
    "\n",
    "* where to store images and labels\n",
    "\n",
    "* workflow\n",
    "    * ingest as raw\n",
    "    * process as rescaled\n",
    "    * put through ML model and label as labeled\n",
    "    * manually validate?\n",
    "    * extend the main image\n",
    "\n"
   ]
  },
  {
   "cell_type": "code",
   "execution_count": 1,
   "id": "628db9b9",
   "metadata": {},
   "outputs": [
    {
     "name": "stderr",
     "output_type": "stream",
     "text": [
      "/usr/local/python/3.11.13/lib/python3.11/site-packages/tqdm/auto.py:21: TqdmWarning: IProgress not found. Please update jupyter and ipywidgets. See https://ipywidgets.readthedocs.io/en/stable/user_install.html\n",
      "  from .autonotebook import tqdm as notebook_tqdm\n"
     ]
    },
    {
     "name": "stdout",
     "output_type": "stream",
     "text": [
      "Saved ../data/raw/pizza/01_pizza.jpg\n",
      "Saved ../data/raw/pizza/02_pizza.jpg\n",
      "Saved ../data/raw/pizza/03_pizza.jpg\n",
      "Saved ../data/raw/pizza/04_pizza.jpg\n",
      "Saved ../data/raw/pizza/05_pizza.jpg\n",
      "Saved ../data/raw/pizza/06_pizza.jpg\n",
      "Saved ../data/raw/pizza/07_pizza.jpg\n",
      "Saved ../data/raw/pizza/08_pizza.jpg\n",
      "Saved ../data/raw/pizza/09_pizza.jpg\n",
      "Saved ../data/raw/pizza/10_pizza.jpg\n"
     ]
    },
    {
     "name": "stderr",
     "output_type": "stream",
     "text": [
      "/usr/local/python/3.11.13/lib/python3.11/site-packages/PIL/TiffImagePlugin.py:950: UserWarning: Truncated File Read\n",
      "  warnings.warn(str(msg))\n"
     ]
    },
    {
     "name": "stdout",
     "output_type": "stream",
     "text": [
      "Saved ../data/raw/sushi/01_sushi.jpg\n",
      "Saved ../data/raw/sushi/02_sushi.jpg\n",
      "Saved ../data/raw/sushi/03_sushi.jpg\n",
      "Saved ../data/raw/sushi/04_sushi.jpg\n",
      "Saved ../data/raw/sushi/05_sushi.jpg\n",
      "Saved ../data/raw/sushi/06_sushi.jpg\n",
      "Saved ../data/raw/sushi/07_sushi.jpg\n",
      "Saved ../data/raw/sushi/08_sushi.jpg\n",
      "Saved ../data/raw/sushi/09_sushi.jpg\n",
      "Saved ../data/raw/sushi/10_sushi.jpg\n",
      "Done! Saved: {'pizza': 10, 'sushi': 10}\n"
     ]
    }
   ],
   "source": [
    "from datasets import load_dataset\n",
    "import os\n",
    "import tqdm\n",
    "\n",
    "# --- Settings ---\n",
    "CLASSES = [\"pizza\", \"sushi\"]   # choose your two classes\n",
    "N = 10                         # how many per class\n",
    "OUT_DIR = \"../data/raw\"\n",
    "# ----------------\n",
    "\n",
    "# Load a manageable subset (first 5000 train samples)\n",
    "ds = load_dataset(\"ethz/food101\", split=\"train\")\n",
    "\n",
    "# Map label IDs to names\n",
    "label_names = ds.features[\"label\"].names\n",
    "name_to_id = {n: i for i, n in enumerate(label_names)}\n",
    "\n",
    "# Ensure output folders exist\n",
    "for cls in CLASSES:\n",
    "    os.makedirs(os.path.join(OUT_DIR, cls), exist_ok=True)\n",
    "\n",
    "# Save images\n",
    "saved_counts = {cls: 0 for cls in CLASSES}\n",
    "\n",
    "for ex in ds:\n",
    "    label = label_names[ex[\"label\"]]\n",
    "    if label in CLASSES and saved_counts[label] < N:\n",
    "        idx = saved_counts[label] + 1\n",
    "        fname = f\"{idx:02d}_{label}.jpg\"\n",
    "        path = os.path.join(OUT_DIR, label, fname)\n",
    "        ex[\"image\"].save(path)\n",
    "        saved_counts[label] += 1\n",
    "        print(\"Saved\", path)\n",
    "    # Stop if done\n",
    "    if all(saved_counts[c] >= N for c in CLASSES):\n",
    "        break\n",
    "\n",
    "print(\"Done! Saved:\", saved_counts)\n"
   ]
  }
 ],
 "metadata": {
  "kernelspec": {
   "display_name": "Python 3",
   "language": "python",
   "name": "python3"
  },
  "language_info": {
   "codemirror_mode": {
    "name": "ipython",
    "version": 3
   },
   "file_extension": ".py",
   "mimetype": "text/x-python",
   "name": "python",
   "nbconvert_exporter": "python",
   "pygments_lexer": "ipython3",
   "version": "3.11.13"
  }
 },
 "nbformat": 4,
 "nbformat_minor": 5
}
